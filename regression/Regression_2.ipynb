{
 "cells": [
  {
   "cell_type": "markdown",
   "id": "b09fe1af",
   "metadata": {},
   "source": [
    "## PCA for top 50 variables"
   ]
  },
  {
   "cell_type": "markdown",
   "id": "d2b8b34b",
   "metadata": {},
   "source": [
    "#### loading the libraries"
   ]
  },
  {
   "cell_type": "code",
   "execution_count": 10,
   "id": "cfc46a9e",
   "metadata": {},
   "outputs": [],
   "source": [
    "import pandas as pd\n",
    "import numpy as np\n",
    "from sklearn import preprocessing\n",
    "from sklearn.feature_selection import VarianceThreshold\n",
    "from sklearn.preprocessing import StandardScaler\n",
    "from sklearn.preprocessing import MinMaxScaler\n",
    "from sklearn.decomposition import PCA\n",
    "from sklearn.linear_model import LinearRegression\n",
    "from sklearn.metrics import r2_score\n",
    "import seaborn as sns\n",
    "import math\n",
    "import matplotlib.pyplot as plt\n",
    "import matplotlib as mpl\n",
    "from sklearn.metrics import accuracy_score, confusion_matrix,balanced_accuracy_score, classification_report\n",
    "from sklearn.model_selection import train_test_split\n",
    "from sklearn.linear_model import LogisticRegression\n",
    "from sklearn.ensemble import RandomForestClassifier\n",
    "from sklearn.feature_selection import SelectKBest, f_classif"
   ]
  },
  {
   "cell_type": "markdown",
   "id": "e1367886",
   "metadata": {},
   "source": [
    "#### loading the dataset"
   ]
  },
  {
   "cell_type": "code",
   "execution_count": 2,
   "id": "fe578ef3",
   "metadata": {},
   "outputs": [
    {
     "data": {
      "text/html": [
       "<div>\n",
       "<style scoped>\n",
       "    .dataframe tbody tr th:only-of-type {\n",
       "        vertical-align: middle;\n",
       "    }\n",
       "\n",
       "    .dataframe tbody tr th {\n",
       "        vertical-align: top;\n",
       "    }\n",
       "\n",
       "    .dataframe thead th {\n",
       "        text-align: right;\n",
       "    }\n",
       "</style>\n",
       "<table border=\"1\" class=\"dataframe\">\n",
       "  <thead>\n",
       "    <tr style=\"text-align: right;\">\n",
       "      <th></th>\n",
       "      <th>SMILES</th>\n",
       "      <th>PKM2_inhibition</th>\n",
       "      <th>ERK2_inhibition</th>\n",
       "      <th>MaxAbsEStateIndex</th>\n",
       "      <th>MaxEStateIndex</th>\n",
       "      <th>MinAbsEStateIndex</th>\n",
       "      <th>MinEStateIndex</th>\n",
       "      <th>qed</th>\n",
       "      <th>SPS</th>\n",
       "      <th>MolWt</th>\n",
       "      <th>...</th>\n",
       "      <th>fr_sulfide</th>\n",
       "      <th>fr_sulfonamd</th>\n",
       "      <th>fr_sulfone</th>\n",
       "      <th>fr_term_acetylene</th>\n",
       "      <th>fr_tetrazole</th>\n",
       "      <th>fr_thiazole</th>\n",
       "      <th>fr_thiocyan</th>\n",
       "      <th>fr_thiophene</th>\n",
       "      <th>fr_unbrch_alkane</th>\n",
       "      <th>fr_urea</th>\n",
       "    </tr>\n",
       "  </thead>\n",
       "  <tbody>\n",
       "    <tr>\n",
       "      <th>0</th>\n",
       "      <td>C=C(C)c1nc(N)nc(N)n1</td>\n",
       "      <td>0</td>\n",
       "      <td>0</td>\n",
       "      <td>5.313889</td>\n",
       "      <td>5.313889</td>\n",
       "      <td>0.120833</td>\n",
       "      <td>0.120833</td>\n",
       "      <td>0.592228</td>\n",
       "      <td>9.545455</td>\n",
       "      <td>151.173</td>\n",
       "      <td>...</td>\n",
       "      <td>0</td>\n",
       "      <td>0</td>\n",
       "      <td>0</td>\n",
       "      <td>0</td>\n",
       "      <td>0</td>\n",
       "      <td>0</td>\n",
       "      <td>0</td>\n",
       "      <td>0</td>\n",
       "      <td>0</td>\n",
       "      <td>0</td>\n",
       "    </tr>\n",
       "    <tr>\n",
       "      <th>1</th>\n",
       "      <td>C=C(Cl)COc1ccc2c(C)cc(=O)oc2c1</td>\n",
       "      <td>0</td>\n",
       "      <td>0</td>\n",
       "      <td>11.238954</td>\n",
       "      <td>11.238954</td>\n",
       "      <td>0.225308</td>\n",
       "      <td>-0.366756</td>\n",
       "      <td>0.785414</td>\n",
       "      <td>10.470588</td>\n",
       "      <td>250.681</td>\n",
       "      <td>...</td>\n",
       "      <td>0</td>\n",
       "      <td>0</td>\n",
       "      <td>0</td>\n",
       "      <td>0</td>\n",
       "      <td>0</td>\n",
       "      <td>0</td>\n",
       "      <td>0</td>\n",
       "      <td>0</td>\n",
       "      <td>0</td>\n",
       "      <td>0</td>\n",
       "    </tr>\n",
       "    <tr>\n",
       "      <th>2</th>\n",
       "      <td>C=CCNC(=O)CCCC(=O)NCC=C</td>\n",
       "      <td>0</td>\n",
       "      <td>0</td>\n",
       "      <td>11.090706</td>\n",
       "      <td>11.090706</td>\n",
       "      <td>0.049610</td>\n",
       "      <td>-0.049610</td>\n",
       "      <td>0.581062</td>\n",
       "      <td>9.066667</td>\n",
       "      <td>210.277</td>\n",
       "      <td>...</td>\n",
       "      <td>0</td>\n",
       "      <td>0</td>\n",
       "      <td>0</td>\n",
       "      <td>0</td>\n",
       "      <td>0</td>\n",
       "      <td>0</td>\n",
       "      <td>0</td>\n",
       "      <td>0</td>\n",
       "      <td>0</td>\n",
       "      <td>0</td>\n",
       "    </tr>\n",
       "    <tr>\n",
       "      <th>3</th>\n",
       "      <td>C=CCOn1c(=O)c(C)[n+]([O-])c2ccccc21</td>\n",
       "      <td>0</td>\n",
       "      <td>0</td>\n",
       "      <td>11.892238</td>\n",
       "      <td>11.892238</td>\n",
       "      <td>0.076632</td>\n",
       "      <td>-0.457824</td>\n",
       "      <td>0.441090</td>\n",
       "      <td>10.411765</td>\n",
       "      <td>232.239</td>\n",
       "      <td>...</td>\n",
       "      <td>0</td>\n",
       "      <td>0</td>\n",
       "      <td>0</td>\n",
       "      <td>0</td>\n",
       "      <td>0</td>\n",
       "      <td>0</td>\n",
       "      <td>0</td>\n",
       "      <td>0</td>\n",
       "      <td>0</td>\n",
       "      <td>0</td>\n",
       "    </tr>\n",
       "    <tr>\n",
       "      <th>4</th>\n",
       "      <td>C=CCn1cc(Cl)c(=O)n(CC=C)c1=O</td>\n",
       "      <td>0</td>\n",
       "      <td>0</td>\n",
       "      <td>11.693580</td>\n",
       "      <td>11.693580</td>\n",
       "      <td>0.012315</td>\n",
       "      <td>-0.498260</td>\n",
       "      <td>0.720343</td>\n",
       "      <td>9.933333</td>\n",
       "      <td>226.663</td>\n",
       "      <td>...</td>\n",
       "      <td>0</td>\n",
       "      <td>0</td>\n",
       "      <td>0</td>\n",
       "      <td>0</td>\n",
       "      <td>0</td>\n",
       "      <td>0</td>\n",
       "      <td>0</td>\n",
       "      <td>0</td>\n",
       "      <td>0</td>\n",
       "      <td>0</td>\n",
       "    </tr>\n",
       "  </tbody>\n",
       "</table>\n",
       "<p>5 rows × 213 columns</p>\n",
       "</div>"
      ],
      "text/plain": [
       "                                SMILES  PKM2_inhibition  ERK2_inhibition  \\\n",
       "0                 C=C(C)c1nc(N)nc(N)n1                0                0   \n",
       "1       C=C(Cl)COc1ccc2c(C)cc(=O)oc2c1                0                0   \n",
       "2              C=CCNC(=O)CCCC(=O)NCC=C                0                0   \n",
       "3  C=CCOn1c(=O)c(C)[n+]([O-])c2ccccc21                0                0   \n",
       "4         C=CCn1cc(Cl)c(=O)n(CC=C)c1=O                0                0   \n",
       "\n",
       "   MaxAbsEStateIndex  MaxEStateIndex  MinAbsEStateIndex  MinEStateIndex  \\\n",
       "0           5.313889        5.313889           0.120833        0.120833   \n",
       "1          11.238954       11.238954           0.225308       -0.366756   \n",
       "2          11.090706       11.090706           0.049610       -0.049610   \n",
       "3          11.892238       11.892238           0.076632       -0.457824   \n",
       "4          11.693580       11.693580           0.012315       -0.498260   \n",
       "\n",
       "        qed        SPS    MolWt  ...  fr_sulfide  fr_sulfonamd  fr_sulfone  \\\n",
       "0  0.592228   9.545455  151.173  ...           0             0           0   \n",
       "1  0.785414  10.470588  250.681  ...           0             0           0   \n",
       "2  0.581062   9.066667  210.277  ...           0             0           0   \n",
       "3  0.441090  10.411765  232.239  ...           0             0           0   \n",
       "4  0.720343   9.933333  226.663  ...           0             0           0   \n",
       "\n",
       "   fr_term_acetylene  fr_tetrazole  fr_thiazole  fr_thiocyan  fr_thiophene  \\\n",
       "0                  0             0            0            0             0   \n",
       "1                  0             0            0            0             0   \n",
       "2                  0             0            0            0             0   \n",
       "3                  0             0            0            0             0   \n",
       "4                  0             0            0            0             0   \n",
       "\n",
       "   fr_unbrch_alkane  fr_urea  \n",
       "0                 0        0  \n",
       "1                 0        0  \n",
       "2                 0        0  \n",
       "3                 0        0  \n",
       "4                 0        0  \n",
       "\n",
       "[5 rows x 213 columns]"
      ]
     },
     "execution_count": 2,
     "metadata": {},
     "output_type": "execute_result"
    }
   ],
   "source": [
    "tested_data = pd.read_csv('tested_molecules_with_descriptors.csv')\n",
    "tested_data.head()"
   ]
  },
  {
   "cell_type": "code",
   "execution_count": 3,
   "id": "ff0f4c0e",
   "metadata": {},
   "outputs": [
    {
     "data": {
      "text/html": [
       "<div>\n",
       "<style scoped>\n",
       "    .dataframe tbody tr th:only-of-type {\n",
       "        vertical-align: middle;\n",
       "    }\n",
       "\n",
       "    .dataframe tbody tr th {\n",
       "        vertical-align: top;\n",
       "    }\n",
       "\n",
       "    .dataframe thead th {\n",
       "        text-align: right;\n",
       "    }\n",
       "</style>\n",
       "<table border=\"1\" class=\"dataframe\">\n",
       "  <thead>\n",
       "    <tr style=\"text-align: right;\">\n",
       "      <th></th>\n",
       "      <th>SMILES</th>\n",
       "      <th>PKM2_inhibition</th>\n",
       "      <th>ERK2_inhibition</th>\n",
       "      <th>MaxAbsEStateIndex</th>\n",
       "      <th>MaxEStateIndex</th>\n",
       "      <th>MinAbsEStateIndex</th>\n",
       "      <th>MinEStateIndex</th>\n",
       "      <th>qed</th>\n",
       "      <th>SPS</th>\n",
       "      <th>MolWt</th>\n",
       "      <th>...</th>\n",
       "      <th>fr_sulfide</th>\n",
       "      <th>fr_sulfonamd</th>\n",
       "      <th>fr_sulfone</th>\n",
       "      <th>fr_term_acetylene</th>\n",
       "      <th>fr_tetrazole</th>\n",
       "      <th>fr_thiazole</th>\n",
       "      <th>fr_thiocyan</th>\n",
       "      <th>fr_thiophene</th>\n",
       "      <th>fr_unbrch_alkane</th>\n",
       "      <th>fr_urea</th>\n",
       "    </tr>\n",
       "  </thead>\n",
       "  <tbody>\n",
       "    <tr>\n",
       "      <th>0</th>\n",
       "      <td>C[C@@H](Sc1nc(=O)cc(N)[nH]1)C(=O)NC1CCCCC1</td>\n",
       "      <td>NaN</td>\n",
       "      <td>NaN</td>\n",
       "      <td>12.102478</td>\n",
       "      <td>12.102478</td>\n",
       "      <td>0.021321</td>\n",
       "      <td>-0.399409</td>\n",
       "      <td>0.573774</td>\n",
       "      <td>17.650000</td>\n",
       "      <td>296.396</td>\n",
       "      <td>...</td>\n",
       "      <td>1</td>\n",
       "      <td>0</td>\n",
       "      <td>0</td>\n",
       "      <td>0</td>\n",
       "      <td>0</td>\n",
       "      <td>0</td>\n",
       "      <td>0</td>\n",
       "      <td>0</td>\n",
       "      <td>0</td>\n",
       "      <td>0</td>\n",
       "    </tr>\n",
       "    <tr>\n",
       "      <th>1</th>\n",
       "      <td>O=C(CCN1C(=O)COc2ccccc21)NCc1cccs1</td>\n",
       "      <td>NaN</td>\n",
       "      <td>NaN</td>\n",
       "      <td>11.985063</td>\n",
       "      <td>11.985063</td>\n",
       "      <td>0.021654</td>\n",
       "      <td>-0.120596</td>\n",
       "      <td>0.919617</td>\n",
       "      <td>13.454545</td>\n",
       "      <td>316.382</td>\n",
       "      <td>...</td>\n",
       "      <td>0</td>\n",
       "      <td>0</td>\n",
       "      <td>0</td>\n",
       "      <td>0</td>\n",
       "      <td>0</td>\n",
       "      <td>0</td>\n",
       "      <td>0</td>\n",
       "      <td>1</td>\n",
       "      <td>0</td>\n",
       "      <td>0</td>\n",
       "    </tr>\n",
       "    <tr>\n",
       "      <th>2</th>\n",
       "      <td>Cn1nnnc1SCC(=O)N1CC[NH+](Cc2ccccc2)CC1</td>\n",
       "      <td>NaN</td>\n",
       "      <td>NaN</td>\n",
       "      <td>12.287562</td>\n",
       "      <td>12.287562</td>\n",
       "      <td>0.163668</td>\n",
       "      <td>0.163668</td>\n",
       "      <td>0.727985</td>\n",
       "      <td>15.782609</td>\n",
       "      <td>333.441</td>\n",
       "      <td>...</td>\n",
       "      <td>1</td>\n",
       "      <td>0</td>\n",
       "      <td>0</td>\n",
       "      <td>0</td>\n",
       "      <td>1</td>\n",
       "      <td>0</td>\n",
       "      <td>0</td>\n",
       "      <td>0</td>\n",
       "      <td>0</td>\n",
       "      <td>0</td>\n",
       "    </tr>\n",
       "    <tr>\n",
       "      <th>3</th>\n",
       "      <td>CCOC(=O)CCP(=O)([O-])[C@@H](O)c1ccc(OC)cc1</td>\n",
       "      <td>NaN</td>\n",
       "      <td>NaN</td>\n",
       "      <td>11.932898</td>\n",
       "      <td>11.932898</td>\n",
       "      <td>0.197446</td>\n",
       "      <td>-4.142696</td>\n",
       "      <td>0.601737</td>\n",
       "      <td>12.800000</td>\n",
       "      <td>301.255</td>\n",
       "      <td>...</td>\n",
       "      <td>0</td>\n",
       "      <td>0</td>\n",
       "      <td>0</td>\n",
       "      <td>0</td>\n",
       "      <td>0</td>\n",
       "      <td>0</td>\n",
       "      <td>0</td>\n",
       "      <td>0</td>\n",
       "      <td>0</td>\n",
       "      <td>0</td>\n",
       "    </tr>\n",
       "    <tr>\n",
       "      <th>4</th>\n",
       "      <td>C=CCNC(=O)c1cc(-c2ccccc2O)on1</td>\n",
       "      <td>NaN</td>\n",
       "      <td>NaN</td>\n",
       "      <td>11.589256</td>\n",
       "      <td>11.589256</td>\n",
       "      <td>0.075648</td>\n",
       "      <td>-0.346925</td>\n",
       "      <td>0.806028</td>\n",
       "      <td>10.000000</td>\n",
       "      <td>244.250</td>\n",
       "      <td>...</td>\n",
       "      <td>0</td>\n",
       "      <td>0</td>\n",
       "      <td>0</td>\n",
       "      <td>0</td>\n",
       "      <td>0</td>\n",
       "      <td>0</td>\n",
       "      <td>0</td>\n",
       "      <td>0</td>\n",
       "      <td>0</td>\n",
       "      <td>0</td>\n",
       "    </tr>\n",
       "  </tbody>\n",
       "</table>\n",
       "<p>5 rows × 213 columns</p>\n",
       "</div>"
      ],
      "text/plain": [
       "                                       SMILES  PKM2_inhibition  \\\n",
       "0  C[C@@H](Sc1nc(=O)cc(N)[nH]1)C(=O)NC1CCCCC1              NaN   \n",
       "1          O=C(CCN1C(=O)COc2ccccc21)NCc1cccs1              NaN   \n",
       "2      Cn1nnnc1SCC(=O)N1CC[NH+](Cc2ccccc2)CC1              NaN   \n",
       "3  CCOC(=O)CCP(=O)([O-])[C@@H](O)c1ccc(OC)cc1              NaN   \n",
       "4               C=CCNC(=O)c1cc(-c2ccccc2O)on1              NaN   \n",
       "\n",
       "   ERK2_inhibition  MaxAbsEStateIndex  MaxEStateIndex  MinAbsEStateIndex  \\\n",
       "0              NaN          12.102478       12.102478           0.021321   \n",
       "1              NaN          11.985063       11.985063           0.021654   \n",
       "2              NaN          12.287562       12.287562           0.163668   \n",
       "3              NaN          11.932898       11.932898           0.197446   \n",
       "4              NaN          11.589256       11.589256           0.075648   \n",
       "\n",
       "   MinEStateIndex       qed        SPS    MolWt  ...  fr_sulfide  \\\n",
       "0       -0.399409  0.573774  17.650000  296.396  ...           1   \n",
       "1       -0.120596  0.919617  13.454545  316.382  ...           0   \n",
       "2        0.163668  0.727985  15.782609  333.441  ...           1   \n",
       "3       -4.142696  0.601737  12.800000  301.255  ...           0   \n",
       "4       -0.346925  0.806028  10.000000  244.250  ...           0   \n",
       "\n",
       "   fr_sulfonamd  fr_sulfone  fr_term_acetylene  fr_tetrazole  fr_thiazole  \\\n",
       "0             0           0                  0             0            0   \n",
       "1             0           0                  0             0            0   \n",
       "2             0           0                  0             1            0   \n",
       "3             0           0                  0             0            0   \n",
       "4             0           0                  0             0            0   \n",
       "\n",
       "   fr_thiocyan  fr_thiophene  fr_unbrch_alkane  fr_urea  \n",
       "0            0             0                 0        0  \n",
       "1            0             1                 0        0  \n",
       "2            0             0                 0        0  \n",
       "3            0             0                 0        0  \n",
       "4            0             0                 0        0  \n",
       "\n",
       "[5 rows x 213 columns]"
      ]
     },
     "execution_count": 3,
     "metadata": {},
     "output_type": "execute_result"
    }
   ],
   "source": [
    "untested_data = pd.read_csv('untested_molecules_with_descriptors.csv')\n",
    "untested_data.head()"
   ]
  },
  {
   "cell_type": "markdown",
   "id": "65657c48",
   "metadata": {},
   "source": [
    "#### splitting the data"
   ]
  },
  {
   "cell_type": "code",
   "execution_count": 11,
   "id": "c915b1d1",
   "metadata": {},
   "outputs": [],
   "source": [
    "# Separate the features (X) and targets (y)\n",
    "X = tested_data.drop(columns=['SMILES', 'PKM2_inhibition', 'ERK2_inhibition'])\n",
    "y_PKM2 = tested_data['PKM2_inhibition']\n",
    "y_ERK2 = tested_data['ERK2_inhibition']\n",
    "\n",
    "# Split the data into training and test sets\n",
    "X_train_PKM2, X_test_PKM2, y_train_PKM2, y_test_PKM2 = train_test_split(X, y_PKM2, test_size=0.2, random_state=42)\n",
    "X_train_ERK2, X_test_ERK2, y_train_ERK2, y_test_ERK2 = train_test_split(X, y_ERK2, test_size=0.2, random_state=42)"
   ]
  },
  {
   "cell_type": "markdown",
   "id": "e7450f04",
   "metadata": {},
   "source": [
    "#### selecting top 50 variables using random forest"
   ]
  },
  {
   "cell_type": "code",
   "execution_count": 12,
   "id": "ea4470d2",
   "metadata": {},
   "outputs": [],
   "source": [
    "# Define a function to select top 50 features\n",
    "def select_top_features(X_train, y_train):\n",
    "    rf = RandomForestClassifier(n_estimators=100, random_state=42)\n",
    "    rf.fit(X_train, y_train)\n",
    "    importances = rf.feature_importances_\n",
    "    indices = importances.argsort()[-50:]  # Get the indices of the top 50 features\n",
    "    \n",
    "    X_train_selected = X_train.iloc[:, indices]\n",
    "    return X_train_selected, indices\n",
    "\n",
    "# Select top 50 features for PKM2 and ERK2\n",
    "X_train_PKM2_selected, indices_PKM2 = select_top_features(X_train_PKM2, y_train_PKM2)\n",
    "X_train_ERK2_selected, indices_ERK2 = select_top_features(X_train_ERK2, y_train_ERK2)\n",
    "\n",
    "# Apply the same feature selection to the test sets\n",
    "X_test_PKM2_selected = X_test_PKM2.iloc[:, indices_PKM2]\n",
    "X_test_ERK2_selected = X_test_ERK2.iloc[:, indices_ERK2]\n"
   ]
  },
  {
   "cell_type": "markdown",
   "id": "9b18e65e",
   "metadata": {},
   "source": [
    "#### performing PCA on top 50 variables"
   ]
  },
  {
   "cell_type": "code",
   "execution_count": 24,
   "id": "ff67f676",
   "metadata": {},
   "outputs": [],
   "source": [
    "# Define a function to apply PCA\n",
    "def apply_pca(X_train, X_test):\n",
    "    scaler = MinMaxScaler()\n",
    "    X_train_scaled = scaler.fit_transform(X_train)\n",
    "    X_test_scaled = scaler.transform(X_test)\n",
    "    \n",
    "    pca = PCA(n_components=0.95)  # Keep 95% of variance\n",
    "    X_train_pca = pca.fit_transform(X_train_scaled)\n",
    "    X_test_pca = pca.transform(X_test_scaled)\n",
    "    \n",
    "    return X_train_pca, X_test_pca\n",
    "\n",
    "# Apply PCA to the selected features for PKM2 and ERK2\n",
    "X_train_PKM2_pca, X_test_PKM2_pca = apply_pca(X_train_PKM2_selected, X_test_PKM2_selected)\n",
    "X_train_ERK2_pca, X_test_ERK2_pca = apply_pca(X_train_ERK2_selected, X_test_ERK2_selected)\n",
    "\n"
   ]
  },
  {
   "cell_type": "markdown",
   "id": "d7a49b80",
   "metadata": {},
   "source": [
    "### Train and test the model using random forest"
   ]
  },
  {
   "cell_type": "code",
   "execution_count": 25,
   "id": "6c8de2ec",
   "metadata": {},
   "outputs": [
    {
     "name": "stdout",
     "output_type": "stream",
     "text": [
      "PKM2 Model Accuracy: 82.59%\n",
      "PKM2 Balanced Accuracy: 82.95%\n",
      "PKM2 Confusion Matrix:\n"
     ]
    },
    {
     "data": {
      "image/png": "[encoded data removed]",
      "text/plain": [
       "<Figure size 432x288 with 1 Axes>"
      ]
     },
     "metadata": {
      "needs_background": "light"
     },
     "output_type": "display_data"
    },
    {
     "name": "stdout",
     "output_type": "stream",
     "text": [
      "PKM2 Classification Report:\n",
      "              precision  recall  f1-score   support\n",
      "0                 99.45   82.57     90.23  21800.00\n",
      "1                 11.63   83.33     20.41    600.00\n",
      "accuracy          82.59   82.59     82.59     82.59\n",
      "macro avg         55.54   82.95     55.32  22400.00\n",
      "weighted avg      97.10   82.59     88.36  22400.00\n",
      "ERK2 Model Accuracy: 71.43%\n",
      "ERK2 Balanced Accuracy: 50.00%\n",
      "ERK2 Confusion Matrix:\n"
     ]
    },
    {
     "data": {
      "image/png": "[encoded data removed]",
      "text/plain": [
       "<Figure size 432x288 with 1 Axes>"
      ]
     },
     "metadata": {
      "needs_background": "light"
     },
     "output_type": "display_data"
    },
    {
     "name": "stdout",
     "output_type": "stream",
     "text": [
      "ERK2 Classification Report:\n",
      "              precision  recall  f1-score   support\n",
      "0                 92.86   75.00     82.98  20800.00\n",
      "1                  7.14   25.00     11.11   1600.00\n",
      "accuracy          71.43   71.43     71.43     71.43\n",
      "macro avg         50.00   50.00     47.04  22400.00\n",
      "weighted avg      86.73   71.43     77.85  22400.00\n"
     ]
    }
   ],
   "source": [
    "# Define a function to train and evaluate the model\n",
    "def train_and_evaluate(X_train, y_train, X_test, y_test):\n",
    "    # Calculate class weights\n",
    "    class_weights = {0: 1, 1: len(y_train) / sum(y_train == 1)}\n",
    "    \n",
    "    model = LogisticRegression(random_state=42, class_weight=class_weights)\n",
    "    model.fit(X_train, y_train)\n",
    "    y_pred = model.predict(X_test)\n",
    "    \n",
    "    accuracy = accuracy_score(y_test, y_pred) * 100\n",
    "    balanced_accuracy = balanced_accuracy_score(y_test, y_pred) * 100\n",
    "    conf_matrix = confusion_matrix(y_test, y_pred)\n",
    "    class_report = classification_report(y_test, y_pred, output_dict=True)\n",
    "    \n",
    "    return model, accuracy, balanced_accuracy, conf_matrix, class_report\n",
    "\n",
    "# Train and evaluate the model for PKM2\n",
    "model_PKM2, accuracy_PKM2, balanced_accuracy_PKM2, conf_matrix_PKM2, class_report_PKM2 = train_and_evaluate(X_train_PKM2_pca, y_train_PKM2, X_test_PKM2_pca, y_test_PKM2)\n",
    "print(f'PKM2 Model Accuracy: {accuracy_PKM2:.2f}%')\n",
    "print(f'PKM2 Balanced Accuracy: {balanced_accuracy_PKM2:.2f}%')\n",
    "print('PKM2 Confusion Matrix:')\n",
    "sns.heatmap(conf_matrix_PKM2, annot=True, fmt='d', cmap='Blues', cbar=False)\n",
    "plt.xlabel('Predicted Label')\n",
    "plt.ylabel('True Label')\n",
    "plt.show()\n",
    "print('PKM2 Classification Report:')\n",
    "print(pd.DataFrame(class_report_PKM2).transpose().apply(lambda x: round(x * 100, 2)))\n",
    "\n",
    "# Train and evaluate the model for ERK2\n",
    "model_ERK2, accuracy_ERK2, balanced_accuracy_ERK2, conf_matrix_ERK2, class_report_ERK2 = train_and_evaluate(X_train_ERK2_pca, y_train_ERK2, X_test_ERK2_pca, y_test_ERK2)\n",
    "print(f'ERK2 Model Accuracy: {accuracy_ERK2:.2f}%')\n",
    "print(f'ERK2 Balanced Accuracy: {balanced_accuracy_ERK2:.2f}%')\n",
    "print('ERK2 Confusion Matrix:')\n",
    "sns.heatmap(conf_matrix_ERK2, annot=True, fmt='d', cmap='Blues', cbar=False)\n",
    "plt.xlabel('Predicted Label')\n",
    "plt.ylabel('True Label')\n",
    "plt.show()\n",
    "print('ERK2 Classification Report:')\n",
    "print(pd.DataFrame(class_report_ERK2).transpose().apply(lambda x: round(x * 100, 2)))\n",
    "\n",
    "\n"
   ]
  },
  {
   "cell_type": "markdown",
   "id": "c1884537",
   "metadata": {},
   "source": [
    "#### selecting top 50 variables using selectKbest"
   ]
  },
  {
   "cell_type": "code",
   "execution_count": 26,
   "id": "e1bafc0a",
   "metadata": {},
   "outputs": [
    {
     "name": "stderr",
     "output_type": "stream",
     "text": [
      "C:\\ProgramData\\Anaconda3\\lib\\site-packages\\sklearn\\feature_selection\\_univariate_selection.py:114: UserWarning: Features [ 10  69  82  86 138 147 148 156 157 160 162 164 170 171 174 175 183 184\n",
      " 185 186 192 193 197 203 206] are constant.\n",
      "  warnings.warn(\"Features %s are constant.\" % constant_features_idx,\n",
      "C:\\ProgramData\\Anaconda3\\lib\\site-packages\\sklearn\\feature_selection\\_univariate_selection.py:116: RuntimeWarning: invalid value encountered in true_divide\n",
      "  f = msb / msw\n",
      "C:\\ProgramData\\Anaconda3\\lib\\site-packages\\sklearn\\feature_selection\\_univariate_selection.py:114: UserWarning: Features [ 10  69  82  86 138 147 148 156 157 160 162 164 170 171 174 175 183 184\n",
      " 185 186 192 193 197 203 206] are constant.\n",
      "  warnings.warn(\"Features %s are constant.\" % constant_features_idx,\n",
      "C:\\ProgramData\\Anaconda3\\lib\\site-packages\\sklearn\\feature_selection\\_univariate_selection.py:116: RuntimeWarning: invalid value encountered in true_divide\n",
      "  f = msb / msw\n"
     ]
    }
   ],
   "source": [
    "# Define a function to select top 50 features using SelectKBest\n",
    "def select_top_features(X_train, y_train):\n",
    "    selector = SelectKBest(score_func=f_classif, k=50)\n",
    "    X_train_selected = selector.fit_transform(X_train, y_train)\n",
    "    indices = selector.get_support(indices=True)\n",
    "    return X_train_selected, indices\n",
    "\n",
    "# Select top 50 features for PKM2 and ERK2\n",
    "X_train_PKM2_selected, indices_PKM2 = select_top_features(X_train_PKM2, y_train_PKM2)\n",
    "X_train_ERK2_selected, indices_ERK2 = select_top_features(X_train_ERK2, y_train_ERK2)\n",
    "\n",
    "# Apply the same feature selection to the test sets\n",
    "X_test_PKM2_selected = X_test_PKM2.iloc[:, indices_PKM2]\n",
    "X_test_ERK2_selected = X_test_ERK2.iloc[:, indices_ERK2]\n"
   ]
  },
  {
   "cell_type": "markdown",
   "id": "2d7d569e",
   "metadata": {},
   "source": [
    "#### performing pca on top 50 variables"
   ]
  },
  {
   "cell_type": "code",
   "execution_count": 27,
   "id": "16545e6b",
   "metadata": {},
   "outputs": [],
   "source": [
    "# Define a function to apply PCA\n",
    "def apply_pca(X_train, X_test):\n",
    "    scaler = StandardScaler()\n",
    "    X_train_scaled = scaler.fit_transform(X_train)\n",
    "    X_test_scaled = scaler.transform(X_test)\n",
    "    \n",
    "    pca = PCA(n_components=0.95)  # Keep 95% of variance\n",
    "    X_train_pca = pca.fit_transform(X_train_scaled)\n",
    "    X_test_pca = pca.transform(X_test_scaled)\n",
    "    \n",
    "    return X_train_pca, X_test_pca\n",
    "\n",
    "# Apply PCA to the selected features for PKM2 and ERK2\n",
    "X_train_PKM2_pca, X_test_PKM2_pca = apply_pca(X_train_PKM2_selected, X_test_PKM2_selected)\n",
    "X_train_ERK2_pca, X_test_ERK2_pca = apply_pca(X_train_ERK2_selected, X_test_ERK2_selected)\n"
   ]
  },
  {
   "cell_type": "markdown",
   "id": "66c33c85",
   "metadata": {},
   "source": [
    "### Train and test the model using selectKbest"
   ]
  },
  {
   "cell_type": "code",
   "execution_count": 28,
   "id": "6353722a",
   "metadata": {},
   "outputs": [
    {
     "name": "stdout",
     "output_type": "stream",
     "text": [
      "PKM2 Model Accuracy: 85.27%\n",
      "PKM2 Balanced Accuracy: 84.33%\n",
      "PKM2 Confusion Matrix:\n"
     ]
    },
    {
     "data": {
      "image/png": "[encoded data removed]",
      "text/plain": [
       "<Figure size 432x288 with 1 Axes>"
      ]
     },
     "metadata": {
      "needs_background": "light"
     },
     "output_type": "display_data"
    },
    {
     "name": "stdout",
     "output_type": "stream",
     "text": [
      "PKM2 Classification Report:\n",
      "              precision  recall  f1-score   support\n",
      "0                 99.47   85.32     91.85  21800.00\n",
      "1                 13.51   83.33     23.26    600.00\n",
      "accuracy          85.27   85.27     85.27     85.27\n",
      "macro avg         56.49   84.33     57.55  22400.00\n",
      "weighted avg      97.16   85.27     90.01  22400.00\n",
      "ERK2 Model Accuracy: 69.64%\n",
      "ERK2 Balanced Accuracy: 51.92%\n",
      "ERK2 Confusion Matrix:\n"
     ]
    },
    {
     "data": {
      "image/png": "[encoded data removed]",
      "text/plain": [
       "<Figure size 432x288 with 1 Axes>"
      ]
     },
     "metadata": {
      "needs_background": "light"
     },
     "output_type": "display_data"
    },
    {
     "name": "stdout",
     "output_type": "stream",
     "text": [
      "ERK2 Classification Report:\n",
      "              precision  recall  f1-score   support\n",
      "0                 93.21   72.60     81.62  20800.00\n",
      "1                  8.06   31.25     12.82   1600.00\n",
      "accuracy          69.64   69.64     69.64     69.64\n",
      "macro avg         50.64   51.92     47.22  22400.00\n",
      "weighted avg      87.13   69.64     76.71  22400.00\n"
     ]
    }
   ],
   "source": [
    "# Define a function to train and evaluate the model\n",
    "def train_and_evaluate(X_train, y_train, X_test, y_test):\n",
    "    # Calculate class weights\n",
    "    class_weights = {0: 1, 1: len(y_train) / sum(y_train == 1)}\n",
    "    \n",
    "    model = LogisticRegression(random_state=42, class_weight=class_weights)\n",
    "    model.fit(X_train, y_train)\n",
    "    y_pred = model.predict(X_test)\n",
    "    \n",
    "    accuracy = accuracy_score(y_test, y_pred) * 100\n",
    "    balanced_accuracy = balanced_accuracy_score(y_test, y_pred) * 100\n",
    "    conf_matrix = confusion_matrix(y_test, y_pred)\n",
    "    class_report = classification_report(y_test, y_pred, output_dict=True)\n",
    "    \n",
    "    return model, accuracy, balanced_accuracy, conf_matrix, class_report\n",
    "\n",
    "# Train and evaluate the model for PKM2\n",
    "model_PKM2, accuracy_PKM2, balanced_accuracy_PKM2, conf_matrix_PKM2, class_report_PKM2 = train_and_evaluate(X_train_PKM2_pca, y_train_PKM2, X_test_PKM2_pca, y_test_PKM2)\n",
    "print(f'PKM2 Model Accuracy: {accuracy_PKM2:.2f}%')\n",
    "print(f'PKM2 Balanced Accuracy: {balanced_accuracy_PKM2:.2f}%')\n",
    "print('PKM2 Confusion Matrix:')\n",
    "sns.heatmap(conf_matrix_PKM2, annot=True, fmt='d', cmap='Blues', cbar=False)\n",
    "plt.xlabel('Predicted Label')\n",
    "plt.ylabel('True Label')\n",
    "plt.show()\n",
    "print('PKM2 Classification Report:')\n",
    "print(pd.DataFrame(class_report_PKM2).transpose().apply(lambda x: round(x * 100, 2)))\n",
    "\n",
    "# Train and evaluate the model for ERK2\n",
    "model_ERK2, accuracy_ERK2, balanced_accuracy_ERK2, conf_matrix_ERK2, class_report_ERK2 = train_and_evaluate(X_train_ERK2_pca, y_train_ERK2, X_test_ERK2_pca, y_test_ERK2)\n",
    "print(f'ERK2 Model Accuracy: {accuracy_ERK2:.2f}%')\n",
    "print(f'ERK2 Balanced Accuracy: {balanced_accuracy_ERK2:.2f}%')\n",
    "print('ERK2 Confusion Matrix:')\n",
    "sns.heatmap(conf_matrix_ERK2, annot=True, fmt='d', cmap='Blues', cbar=False)\n",
    "plt.xlabel('Predicted Label')\n",
    "plt.ylabel('True Label')\n",
    "plt.show()\n",
    "print('ERK2 Classification Report:')\n",
    "print(pd.DataFrame(class_report_ERK2).transpose().apply(lambda x: round(x * 100, 2)))\n"
   ]
  },
  {
   "cell_type": "code",
   "execution_count": 44,
   "id": "04362422",
   "metadata": {},
   "outputs": [
    {
     "name": "stdout",
     "output_type": "stream",
     "text": [
      "Combined Accuracy: 88.36%\n",
      "Combined Balanced Accuracy: 85.89%\n"
     ]
    }
   ],
   "source": [
    "# Calculate combined accuracy and balanced accuracy\n",
    "combined_accuracy = (accuracy_PKM2 + accuracy_ERK2) / 2 *100\n",
    "combined_balanced_accuracy = (balanced_accuracy_PKM2 + balanced_accuracy_ERK2) / 2 *100\n",
    "\n",
    "print(f'Combined Accuracy: {combined_accuracy:.2f}%')\n",
    "print(f'Combined Balanced Accuracy: {combined_balanced_accuracy:.2f}%')\n",
    "\n"
   ]
  },
  {
   "cell_type": "code",
   "execution_count": 39,
   "id": "83ac6a01",
   "metadata": {},
   "outputs": [
    {
     "data": {
      "image/png": "[encoded data removed]",
      "text/plain": [
       "<Figure size 432x288 with 1 Axes>"
      ]
     },
     "metadata": {
      "needs_background": "light"
     },
     "output_type": "display_data"
    },
    {
     "name": "stdout",
     "output_type": "stream",
     "text": [
      "Results of logistic regression for prediction of PKM2 inhibition\n",
      "Accuracy: 93.13%\n",
      "Balanced accuracy: 88.32%\n",
      "Confusion Matrix:\n",
      " [[307  22]\n",
      " [  1   5]]\n",
      "\n",
      "Classification Report:\n",
      "               precision    recall  f1-score   support\n",
      "\n",
      "           0       1.00      0.93      0.96       329\n",
      "           1       0.19      0.83      0.30         6\n",
      "\n",
      "    accuracy                           0.93       335\n",
      "   macro avg       0.59      0.88      0.63       335\n",
      "weighted avg       0.98      0.93      0.95       335\n",
      "\n"
     ]
    },
    {
     "data": {
      "image/png": "[encoded data removed]",
      "text/plain": [
       "<Figure size 576x432 with 1 Axes>"
      ]
     },
     "metadata": {
      "needs_background": "light"
     },
     "output_type": "display_data"
    },
    {
     "data": {
      "image/png": "[encoded data removed]",
      "text/plain": [
       "<Figure size 432x288 with 1 Axes>"
      ]
     },
     "metadata": {
      "needs_background": "light"
     },
     "output_type": "display_data"
    },
    {
     "name": "stdout",
     "output_type": "stream",
     "text": [
      "Results of logistic regression for prediction of ERK2 inhibition\n",
      "Accuracy: 87.16%\n",
      "Balanced accuracy: 56.10%\n",
      "Confusion Matrix:\n",
      " [[288  28]\n",
      " [ 15   4]]\n",
      "\n",
      "Classification Report:\n",
      "               precision    recall  f1-score   support\n",
      "\n",
      "           0       0.95      0.91      0.93       316\n",
      "           1       0.12      0.21      0.16        19\n",
      "\n",
      "    accuracy                           0.87       335\n",
      "   macro avg       0.54      0.56      0.54       335\n",
      "weighted avg       0.90      0.87      0.89       335\n",
      "\n"
     ]
    },
    {
     "data": {
      "image/png": "[encoded data removed]",
      "text/plain": [
       "<Figure size 576x432 with 1 Axes>"
      ]
     },
     "metadata": {
      "needs_background": "light"
     },
     "output_type": "display_data"
    }
   ],
   "source": [
    "import numpy as np\n",
    "from sklearn.feature_selection import VarianceThreshold, SelectKBest, f_classif\n",
    "from sklearn.preprocessing import MinMaxScaler\n",
    "from sklearn.metrics import roc_curve, auc\n",
    "\n",
    "# Drop unnecessary columns and prepare the dataset\n",
    "df_tested_data = tested_data.drop(columns=['PKM2_inhibition', 'ERK2_inhibition', 'SMILES'])\n",
    "\n",
    "# Remove features with low variance\n",
    "constant_filter = VarianceThreshold(threshold=0.0)\n",
    "X_constant_removed = constant_filter.fit_transform(df_tested_data)\n",
    "columns_kept = df_tested_data.columns[constant_filter.get_support()]\n",
    "X_filtered = pd.DataFrame(X_constant_removed, columns=columns_kept)\n",
    "\n",
    "# Compute correlation matrix and select upper triangle of correlation matrix\n",
    "corr_matrix = X_filtered.corr().abs()\n",
    "upper = corr_matrix.where(np.triu(np.ones(corr_matrix.shape), k=1).astype(bool))\n",
    "\n",
    "# Find features with correlation greater than 0.95 and drop them\n",
    "to_drop = [column for column in upper.columns if any(upper[column] > 0.95)]\n",
    "X_filtered = X_filtered.drop(columns=to_drop)\n",
    "\n",
    "# Univariate feature selection for PKM2\n",
    "selector_PKM2 = SelectKBest(score_func=f_classif, k=50)\n",
    "X_best_PKM2 = selector_PKM2.fit_transform(X_filtered, y_PKM2)\n",
    "\n",
    "# Univariate feature selection for ERK2\n",
    "selector_ERK2 = SelectKBest(score_func=f_classif, k=50)\n",
    "X_best_ERK2 = selector_ERK2.fit_transform(X_filtered, y_ERK2)\n",
    "\n",
    "# Scale the features\n",
    "scaler = MinMaxScaler()\n",
    "\n",
    "# Function to train and evaluate model\n",
    "def train_and_evaluate(X, y, dataset_name):\n",
    "    X = scaler.fit_transform(X)\n",
    "    \n",
    "    # Split the data into training and test data set\n",
    "    X_train, X_test, y_train, y_test = train_test_split(X, y, train_size=0.7, test_size=0.3, random_state=42)\n",
    "    \n",
    "    # Decide the number of PCA components based on the retained information\n",
    "    pca = PCA()\n",
    "    pca.fit(X_train)\n",
    "    explained_variance = pca.explained_variance_ratio_.cumsum()\n",
    "    plt.plot(explained_variance)\n",
    "    plt.title(f'Cumulative Explained Variance by PCA Components - {dataset_name}')\n",
    "    plt.xlabel('Number of Components')\n",
    "    plt.ylabel('Cumulative Explained Variance')\n",
    "    plt.show()\n",
    "\n",
    "    # Determine the number of components needed to explain 90% of the variance\n",
    "    desired_variance = 0.90\n",
    "    num_components = (np.argmax(explained_variance >= desired_variance) + 1)\n",
    "\n",
    "    # Apply PCA with the determined number of components\n",
    "    pca = PCA(n_components=num_components)\n",
    "    X_train_pca = pca.fit_transform(X_train)\n",
    "    X_test_pca = pca.transform(X_test)\n",
    "\n",
    "    highest_BAcc_result = float('-inf')\n",
    "    best_y_pred = None\n",
    "    best_y_prob = None\n",
    "    for i in range(20):\n",
    "        logr_model = LogisticRegression(class_weight={0: 1, 1: i})  # Adjust weights\n",
    "        logr_model.fit(X_train_pca, y_train)\n",
    "\n",
    "        y_pred = logr_model.predict(X_test_pca)\n",
    "        y_prob = logr_model.predict_proba(X_test_pca)[:, 1]\n",
    "        accuracy = accuracy_score(y_test, y_pred)\n",
    "        balanced_accuracy = balanced_accuracy_score(y_test, y_pred)\n",
    "\n",
    "        if balanced_accuracy > highest_BAcc_result:\n",
    "            highest_BAcc_result = balanced_accuracy\n",
    "            highest_acc_result = accuracy\n",
    "            best_y_pred = y_pred\n",
    "            best_y_prob = y_prob\n",
    "\n",
    "    print(f\"Results of logistic regression for prediction of {dataset_name} inhibition\")\n",
    "    print(f\"Accuracy: {highest_acc_result * 100:.2f}%\")\n",
    "    print(f\"Balanced accuracy: {highest_BAcc_result * 100:.2f}%\")\n",
    "\n",
    "    # Evaluate the model\n",
    "    print(\"Confusion Matrix:\\n\", confusion_matrix(y_test, best_y_pred))\n",
    "    print(\"\\nClassification Report:\\n\", classification_report(y_test, best_y_pred))\n",
    "\n",
    "    # Plot ROC Curve\n",
    "    fpr, tpr, thresholds = roc_curve(y_test, best_y_prob)\n",
    "    roc_auc = auc(fpr, tpr)\n",
    "\n",
    "    plt.figure(figsize=(8, 6))\n",
    "    plt.plot(fpr, tpr, color='darkorange', lw=2,\n",
    "             label=f'ROC Curve (AUC = {roc_auc:.2f})')\n",
    "    plt.plot([0, 1], [0, 1], color='navy', lw=2, linestyle='--', label='Random')\n",
    "    plt.xlabel('False Positive Rate')\n",
    "    plt.ylabel('True Positive Rate')\n",
    "    plt.title(f'Receiver Operating Characteristic (ROC) Curve - {dataset_name}')\n",
    "    plt.legend(loc=\"lower right\")\n",
    "    plt.show()\n",
    "\n",
    "# Train and evaluate model for PKM2\n",
    "train_and_evaluate(X_best_PKM2, y_PKM2, \"PKM2\")\n",
    "\n",
    "# Train and evaluate model for ERK2\n",
    "train_and_evaluate(X_best_ERK2, y_ERK2, \"ERK2\")\n"
   ]
  },
  {
   "cell_type": "code",
   "execution_count": 40,
   "id": "7f41ac8f",
   "metadata": {},
   "outputs": [
    {
     "name": "stdout",
     "output_type": "stream",
     "text": [
      "Accuracy: 90.75%\n",
      "Balanced accuracy: 87.11%\n"
     ]
    }
   ],
   "source": [
    "#total for both \n",
    "accuracy= (highest_acc_result_ERK2+ highest_acc_result_PKM2)/2\n",
    "balanced_accuracy=(highest_BAcc_result_ERK2 + highest_BAcc_result_PKM2)/2\n",
    "print(\"Accuracy: {:.2f}%\".format(accuracy  * 100))\n",
    "print(\"Balanced accuracy: {:.2f}%\".format(balanced_accuracy * 100))"
   ]
  }
 ],
 "metadata": {
  "kernelspec": {
   "display_name": "Python 3",
   "language": "python",
   "name": "python3"
  },
  "language_info": {
   "codemirror_mode": {
    "name": "ipython",
    "version": 3
   },
   "file_extension": ".py",
   "mimetype": "text/x-python",
   "name": "python",
   "nbconvert_exporter": "python",
   "pygments_lexer": "ipython3",
   "version": "3.8.8"
  }
 },
 "nbformat": 4,
 "nbformat_minor": 5
}
