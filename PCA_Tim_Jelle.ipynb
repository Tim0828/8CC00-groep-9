{
 "cells": [
  {
   "cell_type": "markdown",
   "metadata": {},
   "source": [
    "## Tim en Jelle's notebook voor PCA\n",
    "Welkom"
   ]
  },
  {
   "cell_type": "code",
   "execution_count": 21,
   "metadata": {},
   "outputs": [
    {
     "name": "stdout",
     "output_type": "stream",
     "text": [
      "C:\\Users\\20223192\\OneDrive - TU Eindhoven\\Documents\\Advanced programming\\8CC00-groep-9\n"
     ]
    }
   ],
   "source": [
    "# just a personal script to change the directory to the right one\n",
    "import os\n",
    "os.chdir(r'C:\\Users\\20223192\\OneDrive - TU Eindhoven\\Documents\\Advanced programming\\8CC00-groep-9')\n",
    "# current directory\n",
    "print(os.getcwd())"
   ]
  },
  {
   "cell_type": "code",
   "execution_count": 22,
   "metadata": {},
   "outputs": [],
   "source": [
    "# imports\n",
    "from sklearn.decomposition import PCA\n",
    "from sklearn.preprocessing import StandardScaler, MinMaxScaler\n",
    "import pandas as pd\n",
    "import matplotlib.pyplot as plt"
   ]
  },
  {
   "cell_type": "code",
   "execution_count": 23,
   "metadata": {},
   "outputs": [
    {
     "data": {
      "text/html": [
       "<div>\n",
       "<style scoped>\n",
       "    .dataframe tbody tr th:only-of-type {\n",
       "        vertical-align: middle;\n",
       "    }\n",
       "\n",
       "    .dataframe tbody tr th {\n",
       "        vertical-align: top;\n",
       "    }\n",
       "\n",
       "    .dataframe thead th {\n",
       "        text-align: right;\n",
       "    }\n",
       "</style>\n",
       "<table border=\"1\" class=\"dataframe\">\n",
       "  <thead>\n",
       "    <tr style=\"text-align: right;\">\n",
       "      <th></th>\n",
       "      <th>SMILES</th>\n",
       "      <th>PKM2_inhibition</th>\n",
       "      <th>ERK2_inhibition</th>\n",
       "      <th>MaxAbsEStateIndex</th>\n",
       "      <th>MaxEStateIndex</th>\n",
       "      <th>MinAbsEStateIndex</th>\n",
       "      <th>MinEStateIndex</th>\n",
       "      <th>qed</th>\n",
       "      <th>SPS</th>\n",
       "      <th>MolWt</th>\n",
       "      <th>...</th>\n",
       "      <th>fr_sulfide</th>\n",
       "      <th>fr_sulfonamd</th>\n",
       "      <th>fr_sulfone</th>\n",
       "      <th>fr_term_acetylene</th>\n",
       "      <th>fr_tetrazole</th>\n",
       "      <th>fr_thiazole</th>\n",
       "      <th>fr_thiocyan</th>\n",
       "      <th>fr_thiophene</th>\n",
       "      <th>fr_unbrch_alkane</th>\n",
       "      <th>fr_urea</th>\n",
       "    </tr>\n",
       "  </thead>\n",
       "  <tbody>\n",
       "    <tr>\n",
       "      <th>0</th>\n",
       "      <td>C=C(C)c1nc(N)nc(N)n1</td>\n",
       "      <td>0</td>\n",
       "      <td>0</td>\n",
       "      <td>5.313889</td>\n",
       "      <td>5.313889</td>\n",
       "      <td>0.120833</td>\n",
       "      <td>0.120833</td>\n",
       "      <td>0.592228</td>\n",
       "      <td>9.545455</td>\n",
       "      <td>151.173</td>\n",
       "      <td>...</td>\n",
       "      <td>0</td>\n",
       "      <td>0</td>\n",
       "      <td>0</td>\n",
       "      <td>0</td>\n",
       "      <td>0</td>\n",
       "      <td>0</td>\n",
       "      <td>0</td>\n",
       "      <td>0</td>\n",
       "      <td>0</td>\n",
       "      <td>0</td>\n",
       "    </tr>\n",
       "    <tr>\n",
       "      <th>1</th>\n",
       "      <td>C=C(Cl)COc1ccc2c(C)cc(=O)oc2c1</td>\n",
       "      <td>0</td>\n",
       "      <td>0</td>\n",
       "      <td>11.238954</td>\n",
       "      <td>11.238954</td>\n",
       "      <td>0.225308</td>\n",
       "      <td>-0.366756</td>\n",
       "      <td>0.785414</td>\n",
       "      <td>10.470588</td>\n",
       "      <td>250.681</td>\n",
       "      <td>...</td>\n",
       "      <td>0</td>\n",
       "      <td>0</td>\n",
       "      <td>0</td>\n",
       "      <td>0</td>\n",
       "      <td>0</td>\n",
       "      <td>0</td>\n",
       "      <td>0</td>\n",
       "      <td>0</td>\n",
       "      <td>0</td>\n",
       "      <td>0</td>\n",
       "    </tr>\n",
       "    <tr>\n",
       "      <th>2</th>\n",
       "      <td>C=CCNC(=O)CCCC(=O)NCC=C</td>\n",
       "      <td>0</td>\n",
       "      <td>0</td>\n",
       "      <td>11.090706</td>\n",
       "      <td>11.090706</td>\n",
       "      <td>0.049610</td>\n",
       "      <td>-0.049610</td>\n",
       "      <td>0.581062</td>\n",
       "      <td>9.066667</td>\n",
       "      <td>210.277</td>\n",
       "      <td>...</td>\n",
       "      <td>0</td>\n",
       "      <td>0</td>\n",
       "      <td>0</td>\n",
       "      <td>0</td>\n",
       "      <td>0</td>\n",
       "      <td>0</td>\n",
       "      <td>0</td>\n",
       "      <td>0</td>\n",
       "      <td>0</td>\n",
       "      <td>0</td>\n",
       "    </tr>\n",
       "    <tr>\n",
       "      <th>3</th>\n",
       "      <td>C=CCOn1c(=O)c(C)[n+]([O-])c2ccccc21</td>\n",
       "      <td>0</td>\n",
       "      <td>0</td>\n",
       "      <td>11.892238</td>\n",
       "      <td>11.892238</td>\n",
       "      <td>0.076632</td>\n",
       "      <td>-0.457824</td>\n",
       "      <td>0.441090</td>\n",
       "      <td>10.411765</td>\n",
       "      <td>232.239</td>\n",
       "      <td>...</td>\n",
       "      <td>0</td>\n",
       "      <td>0</td>\n",
       "      <td>0</td>\n",
       "      <td>0</td>\n",
       "      <td>0</td>\n",
       "      <td>0</td>\n",
       "      <td>0</td>\n",
       "      <td>0</td>\n",
       "      <td>0</td>\n",
       "      <td>0</td>\n",
       "    </tr>\n",
       "    <tr>\n",
       "      <th>4</th>\n",
       "      <td>C=CCn1cc(Cl)c(=O)n(CC=C)c1=O</td>\n",
       "      <td>0</td>\n",
       "      <td>0</td>\n",
       "      <td>11.693580</td>\n",
       "      <td>11.693580</td>\n",
       "      <td>0.012315</td>\n",
       "      <td>-0.498260</td>\n",
       "      <td>0.720343</td>\n",
       "      <td>9.933333</td>\n",
       "      <td>226.663</td>\n",
       "      <td>...</td>\n",
       "      <td>0</td>\n",
       "      <td>0</td>\n",
       "      <td>0</td>\n",
       "      <td>0</td>\n",
       "      <td>0</td>\n",
       "      <td>0</td>\n",
       "      <td>0</td>\n",
       "      <td>0</td>\n",
       "      <td>0</td>\n",
       "      <td>0</td>\n",
       "    </tr>\n",
       "  </tbody>\n",
       "</table>\n",
       "<p>5 rows × 213 columns</p>\n",
       "</div>"
      ],
      "text/plain": [
       "                                SMILES  PKM2_inhibition  ERK2_inhibition  \\\n",
       "0                 C=C(C)c1nc(N)nc(N)n1                0                0   \n",
       "1       C=C(Cl)COc1ccc2c(C)cc(=O)oc2c1                0                0   \n",
       "2              C=CCNC(=O)CCCC(=O)NCC=C                0                0   \n",
       "3  C=CCOn1c(=O)c(C)[n+]([O-])c2ccccc21                0                0   \n",
       "4         C=CCn1cc(Cl)c(=O)n(CC=C)c1=O                0                0   \n",
       "\n",
       "   MaxAbsEStateIndex  MaxEStateIndex  MinAbsEStateIndex  MinEStateIndex  \\\n",
       "0           5.313889        5.313889           0.120833        0.120833   \n",
       "1          11.238954       11.238954           0.225308       -0.366756   \n",
       "2          11.090706       11.090706           0.049610       -0.049610   \n",
       "3          11.892238       11.892238           0.076632       -0.457824   \n",
       "4          11.693580       11.693580           0.012315       -0.498260   \n",
       "\n",
       "        qed        SPS    MolWt  ...  fr_sulfide  fr_sulfonamd  fr_sulfone  \\\n",
       "0  0.592228   9.545455  151.173  ...           0             0           0   \n",
       "1  0.785414  10.470588  250.681  ...           0             0           0   \n",
       "2  0.581062   9.066667  210.277  ...           0             0           0   \n",
       "3  0.441090  10.411765  232.239  ...           0             0           0   \n",
       "4  0.720343   9.933333  226.663  ...           0             0           0   \n",
       "\n",
       "   fr_term_acetylene  fr_tetrazole  fr_thiazole  fr_thiocyan  fr_thiophene  \\\n",
       "0                  0             0            0            0             0   \n",
       "1                  0             0            0            0             0   \n",
       "2                  0             0            0            0             0   \n",
       "3                  0             0            0            0             0   \n",
       "4                  0             0            0            0             0   \n",
       "\n",
       "   fr_unbrch_alkane  fr_urea  \n",
       "0                 0        0  \n",
       "1                 0        0  \n",
       "2                 0        0  \n",
       "3                 0        0  \n",
       "4                 0        0  \n",
       "\n",
       "[5 rows x 213 columns]"
      ]
     },
     "execution_count": 23,
     "metadata": {},
     "output_type": "execute_result"
    }
   ],
   "source": [
    "# load data from csv\n",
    "data = pd.read_csv('tested_molecules_with_descriptors.csv')\n",
    "data.head()"
   ]
  },
  {
   "cell_type": "code",
   "execution_count": 24,
   "metadata": {},
   "outputs": [
    {
     "data": {
      "text/html": [
       "<div>\n",
       "<style scoped>\n",
       "    .dataframe tbody tr th:only-of-type {\n",
       "        vertical-align: middle;\n",
       "    }\n",
       "\n",
       "    .dataframe tbody tr th {\n",
       "        vertical-align: top;\n",
       "    }\n",
       "\n",
       "    .dataframe thead th {\n",
       "        text-align: right;\n",
       "    }\n",
       "</style>\n",
       "<table border=\"1\" class=\"dataframe\">\n",
       "  <thead>\n",
       "    <tr style=\"text-align: right;\">\n",
       "      <th></th>\n",
       "      <th>PKM2_inhibition</th>\n",
       "      <th>ERK2_inhibition</th>\n",
       "      <th>SMILES</th>\n",
       "    </tr>\n",
       "  </thead>\n",
       "  <tbody>\n",
       "    <tr>\n",
       "      <th>0</th>\n",
       "      <td>0</td>\n",
       "      <td>0</td>\n",
       "      <td>C=C(C)c1nc(N)nc(N)n1</td>\n",
       "    </tr>\n",
       "    <tr>\n",
       "      <th>1</th>\n",
       "      <td>0</td>\n",
       "      <td>0</td>\n",
       "      <td>C=C(Cl)COc1ccc2c(C)cc(=O)oc2c1</td>\n",
       "    </tr>\n",
       "    <tr>\n",
       "      <th>2</th>\n",
       "      <td>0</td>\n",
       "      <td>0</td>\n",
       "      <td>C=CCNC(=O)CCCC(=O)NCC=C</td>\n",
       "    </tr>\n",
       "    <tr>\n",
       "      <th>3</th>\n",
       "      <td>0</td>\n",
       "      <td>0</td>\n",
       "      <td>C=CCOn1c(=O)c(C)[n+]([O-])c2ccccc21</td>\n",
       "    </tr>\n",
       "    <tr>\n",
       "      <th>4</th>\n",
       "      <td>0</td>\n",
       "      <td>0</td>\n",
       "      <td>C=CCn1cc(Cl)c(=O)n(CC=C)c1=O</td>\n",
       "    </tr>\n",
       "  </tbody>\n",
       "</table>\n",
       "</div>"
      ],
      "text/plain": [
       "   PKM2_inhibition  ERK2_inhibition                               SMILES\n",
       "0                0                0                 C=C(C)c1nc(N)nc(N)n1\n",
       "1                0                0       C=C(Cl)COc1ccc2c(C)cc(=O)oc2c1\n",
       "2                0                0              C=CCNC(=O)CCCC(=O)NCC=C\n",
       "3                0                0  C=CCOn1c(=O)c(C)[n+]([O-])c2ccccc21\n",
       "4                0                0         C=CCn1cc(Cl)c(=O)n(CC=C)c1=O"
      ]
     },
     "execution_count": 24,
     "metadata": {},
     "output_type": "execute_result"
    }
   ],
   "source": [
    "# Separate the molecular descriptors from the inhibition labels and SMILES\n",
    "df_descriptors = data[['PKM2_inhibition', 'ERK2_inhibition', 'SMILES']]\n",
    "df_data= data.drop(columns=['PKM2_inhibition', 'ERK2_inhibition', 'SMILES'])\n",
    "df_descriptors.head()"
   ]
  },
  {
   "cell_type": "code",
   "execution_count": 28,
   "metadata": {},
   "outputs": [
    {
     "name": "stdout",
     "output_type": "stream",
     "text": [
      "Columns with zero variance: Index(['NumRadicalElectrons', 'SMR_VSA8', 'SlogP_VSA9', 'EState_VSA11',\n",
      "       'fr_HOCCN', 'fr_SH', 'fr_aldehyde', 'fr_azide', 'fr_azo',\n",
      "       'fr_benzodiazepine', 'fr_diazo', 'fr_epoxide', 'fr_hdrzine',\n",
      "       'fr_hdrzone', 'fr_isocyan', 'fr_isothiocyan', 'fr_nitro_arom_nonortho',\n",
      "       'fr_nitroso', 'fr_phos_acid', 'fr_phos_ester', 'fr_prisulfonamd',\n",
      "       'fr_term_acetylene', 'fr_thiocyan'],\n",
      "      dtype='object')\n"
     ]
    }
   ],
   "source": [
    "# Identify columns with zero variance (have no discriminatory information)\n",
    "zero_variance_columns = df_data.columns[df_data.nunique() <= 1]\n",
    "\n",
    "# Print or remove these columns\n",
    "print(\"Columns with zero variance:\", zero_variance_columns)\n",
    "df_data = df_data.drop(columns=zero_variance_columns)"
   ]
  },
  {
   "cell_type": "code",
   "execution_count": 32,
   "metadata": {},
   "outputs": [
    {
     "data": {
      "text/plain": [
       "0.0"
      ]
     },
     "execution_count": 32,
     "metadata": {},
     "output_type": "execute_result"
    }
   ],
   "source": [
    "# check if descriptors are normally distributed \n",
    "from scipy.stats import shapiro\n",
    "\n",
    "# Initialize a counter for normally distributed columns\n",
    "num_norm_columns = 0\n",
    "alpha = 0.05\n",
    "# Iterate over each column in df_data\n",
    "for column in df_data.columns:\n",
    "    # Perform Shapiro-Wilk test for normality\n",
    "    stat, p = shapiro(df_data[column])\n",
    "    \n",
    "    # Check if the p-value is greater than the significance level (alpha)\n",
    "    if p > alpha:\n",
    "        num_norm_columns += 1\n",
    "\n",
    "# Calculate the percentage of normally distributed columns\n",
    "percentage_norm_columns = (num_norm_columns / len(df_data.columns)) * 100\n",
    "\n",
    "percentage_norm_columns"
   ]
  },
  {
   "cell_type": "code",
   "execution_count": 26,
   "metadata": {},
   "outputs": [],
   "source": [
    "# data is not normally distributed, so we need to scale it, we will use MinMaxScaler\n",
    "# # Standardize the features by scaling them to have mean 0 and variance 1\n",
    "# scalerstandard = StandardScaler()\n",
    "# df_scaled = scalerstandard.fit_transform(df_data)"
   ]
  },
  {
   "cell_type": "code",
   "execution_count": 34,
   "metadata": {},
   "outputs": [
    {
     "data": {
      "text/plain": [
       "(array([[4.000e+00, 1.000e+01, 1.800e+01, ..., 1.100e+02, 2.400e+01,\n",
       "         6.000e+00],\n",
       "        [4.000e+00, 1.000e+01, 1.800e+01, ..., 1.100e+02, 2.400e+01,\n",
       "         6.000e+00],\n",
       "        [3.370e+02, 2.490e+02, 1.720e+02, ..., 2.000e+00, 3.000e+00,\n",
       "         1.000e+00],\n",
       "        ...,\n",
       "        [1.033e+03, 0.000e+00, 0.000e+00, ..., 0.000e+00, 0.000e+00,\n",
       "         3.000e+00],\n",
       "        [1.038e+03, 0.000e+00, 0.000e+00, ..., 0.000e+00, 0.000e+00,\n",
       "         5.000e+00],\n",
       "        [1.059e+03, 0.000e+00, 0.000e+00, ..., 0.000e+00, 0.000e+00,\n",
       "         1.000e+00]]),\n",
       " array([0.  , 0.05, 0.1 , 0.15, 0.2 , 0.25, 0.3 , 0.35, 0.4 , 0.45, 0.5 ,\n",
       "        0.55, 0.6 , 0.65, 0.7 , 0.75, 0.8 , 0.85, 0.9 , 0.95, 1.  ]),\n",
       " <a list of 187 BarContainer objects>)"
      ]
     },
     "execution_count": 34,
     "metadata": {},
     "output_type": "execute_result"
    },
    {
     "data": {
      "image/png": "[encoded data removed]",
      "text/plain": [
       "<Figure size 432x288 with 1 Axes>"
      ]
     },
     "metadata": {
      "needs_background": "light"
     },
     "output_type": "display_data"
    }
   ],
   "source": [
    "scalerminmax = MinMaxScaler()\n",
    "df_scaled = scalerminmax.fit_transform(df_data)"
   ]
  },
  {
   "cell_type": "code",
   "execution_count": 36,
   "metadata": {},
   "outputs": [],
   "source": [
    "# Perform PCA\n",
    "pca = PCA()\n",
    "df_pca = pca.fit_transform(df_scaled)"
   ]
  },
  {
   "cell_type": "code",
   "execution_count": 37,
   "metadata": {},
   "outputs": [
    {
     "data": {
      "text/plain": [
       "[<matplotlib.lines.Line2D at 0x1e934e64b50>]"
      ]
     },
     "execution_count": 37,
     "metadata": {},
     "output_type": "execute_result"
    },
    {
     "data": {
      "image/png": "[encoded data removed]",
      "text/plain": [
       "<Figure size 432x288 with 1 Axes>"
      ]
     },
     "metadata": {
      "needs_background": "light"
     },
     "output_type": "display_data"
    }
   ],
   "source": [
    "# explained variance ratio\n",
    "explained_variance_ratio = pca.explained_variance_ratio_\n",
    "# visualize explained variance ratio\n",
    "plt.plot(range(1, len(explained_variance_ratio) + 1), explained_variance_ratio)"
   ]
  },
  {
   "cell_type": "code",
   "execution_count": 40,
   "metadata": {},
   "outputs": [
    {
     "data": {
      "text/plain": [
       "[<matplotlib.lines.Line2D at 0x1e932b84070>]"
      ]
     },
     "execution_count": 40,
     "metadata": {},
     "output_type": "execute_result"
    },
    {
     "data": {
      "image/png": "[encoded data removed]",
      "text/plain": [
       "<Figure size 432x288 with 1 Axes>"
      ]
     },
     "metadata": {
      "needs_background": "light"
     },
     "output_type": "display_data"
    }
   ],
   "source": [
    "# Cumulative explained variance\n",
    "cumulative_explained_variance = explained_variance_ratio.cumsum()\n",
    "# visualize cumulative explained variance\n",
    "plt.plot(range(1, len(cumulative_explained_variance) + 1), cumulative_explained_variance)\n"
   ]
  },
  {
   "cell_type": "code",
   "execution_count": 43,
   "metadata": {},
   "outputs": [
    {
     "data": {
      "image/png": "[encoded data removed]",
      "text/plain": [
       "<Figure size 432x288 with 1 Axes>"
      ]
     },
     "metadata": {
      "needs_background": "light"
     },
     "output_type": "display_data"
    }
   ],
   "source": [
    "\n",
    "\n",
    "# Create the scree plot\n",
    "plt.plot(range(1, len(explained_variance_ratio) + 1), explained_variance_ratio, marker='o')\n",
    "plt.xlabel('Number of Principal Components')\n",
    "plt.ylabel('Cumulative Explained Variance')\n",
    "plt.title('Scree Plot')\n",
    "plt.show()\n",
    "# elbow around 10 components"
   ]
  },
  {
   "cell_type": "code",
   "execution_count": 39,
   "metadata": {},
   "outputs": [
    {
     "name": "stdout",
     "output_type": "stream",
     "text": [
      "Number of components that explain 90% of the variance: 43\n"
     ]
    }
   ],
   "source": [
    "# keep 90% of the variance\n",
    "num_components = (cumulative_explained_variance < 0.9).sum() + 1\n",
    "print(\"Number of components that explain 90% of the variance:\", num_components)\n",
    "# Apply PCA with the number of components that explain 90% of the variance\n",
    "pca = PCA(n_components=num_components)\n",
    "df_pca = pca.fit_transform(df_scaled)"
   ]
  }
 ],
 "metadata": {
  "kernelspec": {
   "display_name": "Python 3",
   "language": "python",
   "name": "python3"
  }
 },
 "nbformat": 4,
 "nbformat_minor": 2
}
