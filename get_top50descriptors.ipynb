{
 "cells": [
  {
   "cell_type": "code",
   "execution_count": 2,
   "metadata": {},
   "outputs": [],
   "source": [
    "import pandas as pd\n",
    "from docx import Document\n",
    "from docx.shared import Pt\n",
    "PKM2 = ['qed', 'BalabanJ', 'BCUT2D_MWLOW', 'AvgIpc', 'PEOE_VSA5', 'VSA_EState1', 'BertzCT', 'MolWt', 'SMR_VSA7', 'EState_VSA6', 'VSA_EState9', 'BCUT2D_MRLOW', 'TPSA', 'VSA_EState2', 'MinEStateIndex', 'SMR_VSA3', 'SlogP_VSA6', 'SlogP_VSA3', 'EState_VSA3', 'PEOE_VSA13', 'BCUT2D_MRHI', 'SlogP_VSA1', 'PEOE_VSA1', 'fr_NH0', 'NumAromaticHeterocycles', 'SMR_VSA10', 'SMR_VSA5', 'SlogP_VSA8', 'SlogP_VSA5', 'PEOE_VSA3', 'BCUT2D_MWHI', 'NumHAcceptors', 'NOCount', 'fr_sulfonamd', 'FractionCSP3', 'NumHeteroatoms', 'SlogP_VSA12', 'NumAromaticRings', 'fr_furan', 'fr_thiophene', 'SlogP_VSA10', 'fr_thiazole', 'RingCount', 'NumHDonors', 'PEOE_VSA14', 'NHOHCount', 'fr_amide', 'fr_C_O', 'fr_NH2', 'fr_Ndealkylation2']\n",
    "ERK2 = ['VSA_EState1', 'MinAbsEStateIndex', 'TPSA', 'MolLogP', 'EState_VSA4', 'BCUT2D_MRLOW', 'BertzCT', 'VSA_EState2', 'AvgIpc', 'MinPartialCharge', 'EState_VSA2', 'BalabanJ', 'PEOE_VSA9', 'FpDensityMorgan1', 'SMR_VSA5', 'BCUT2D_LOGPHI', 'VSA_EState6', 'SMR_VSA6', 'SMR_VSA7', 'MaxAbsEStateIndex', 'SlogP_VSA6', 'FpDensityMorgan2', 'SlogP_VSA5', 'SlogP_VSA8', 'FractionCSP3', 'HallKierAlpha', 'EState_VSA7', 'fr_ether', 'MolWt', 'SlogP_VSA10', 'SlogP_VSA3', 'PEOE_VSA4', 'SMR_VSA9', 'SlogP_VSA11', 'fr_methoxy', 'NumAromaticRings', 'fr_amide', 'fr_aniline', 'fr_Ar_NH', 'fr_C_O', 'RingCount', 'fr_alkyl_halide', 'fr_halogen', 'NumAromaticCarbocycles', 'NumAromaticHeterocycles', 'SlogP_VSA12', 'fr_thiazole', 'fr_ester', 'fr_COO', 'fr_nitro']\n"
   ]
  },
  {
   "cell_type": "code",
   "execution_count": 3,
   "metadata": {},
   "outputs": [
    {
     "ename": "PermissionError",
     "evalue": "[Errno 13] Permission denied: 'top_50_descriptors.docx'",
     "output_type": "error",
     "traceback": [
      "\u001b[1;31m---------------------------------------------------------------------------\u001b[0m",
      "\u001b[1;31mPermissionError\u001b[0m                           Traceback (most recent call last)",
      "Cell \u001b[1;32mIn[3], line 34\u001b[0m\n\u001b[0;32m     31\u001b[0m     row_cells[\u001b[38;5;241m2\u001b[39m]\u001b[38;5;241m.\u001b[39mtext \u001b[38;5;241m=\u001b[39m df[\u001b[38;5;124m'\u001b[39m\u001b[38;5;124mERK2 Descriptor\u001b[39m\u001b[38;5;124m'\u001b[39m][i]\n\u001b[0;32m     33\u001b[0m \u001b[38;5;66;03m# Save the document\u001b[39;00m\n\u001b[1;32m---> 34\u001b[0m \u001b[43mdoc\u001b[49m\u001b[38;5;241;43m.\u001b[39;49m\u001b[43msave\u001b[49m\u001b[43m(\u001b[49m\u001b[38;5;124;43m'\u001b[39;49m\u001b[38;5;124;43mtop_50_descriptors.docx\u001b[39;49m\u001b[38;5;124;43m'\u001b[39;49m\u001b[43m)\u001b[49m\n",
      "File \u001b[1;32mc:\\ProgramData\\Anaconda3\\envs\\Group9_8CC00\\lib\\site-packages\\docx\\document.py:149\u001b[0m, in \u001b[0;36mDocument.save\u001b[1;34m(self, path_or_stream)\u001b[0m\n\u001b[0;32m    143\u001b[0m \u001b[38;5;28;01mdef\u001b[39;00m \u001b[38;5;21msave\u001b[39m(\u001b[38;5;28mself\u001b[39m, path_or_stream: \u001b[38;5;28mstr\u001b[39m \u001b[38;5;241m|\u001b[39m IO[\u001b[38;5;28mbytes\u001b[39m]):\n\u001b[0;32m    144\u001b[0m \u001b[38;5;250m    \u001b[39m\u001b[38;5;124;03m\"\"\"Save this document to `path_or_stream`.\u001b[39;00m\n\u001b[0;32m    145\u001b[0m \n\u001b[0;32m    146\u001b[0m \u001b[38;5;124;03m    `path_or_stream` can be either a path to a filesystem location (a string) or a\u001b[39;00m\n\u001b[0;32m    147\u001b[0m \u001b[38;5;124;03m    file-like object.\u001b[39;00m\n\u001b[0;32m    148\u001b[0m \u001b[38;5;124;03m    \"\"\"\u001b[39;00m\n\u001b[1;32m--> 149\u001b[0m     \u001b[38;5;28;43mself\u001b[39;49m\u001b[38;5;241;43m.\u001b[39;49m\u001b[43m_part\u001b[49m\u001b[38;5;241;43m.\u001b[39;49m\u001b[43msave\u001b[49m\u001b[43m(\u001b[49m\u001b[43mpath_or_stream\u001b[49m\u001b[43m)\u001b[49m\n",
      "File \u001b[1;32mc:\\ProgramData\\Anaconda3\\envs\\Group9_8CC00\\lib\\site-packages\\docx\\parts\\document.py:108\u001b[0m, in \u001b[0;36mDocumentPart.save\u001b[1;34m(self, path_or_stream)\u001b[0m\n\u001b[0;32m    105\u001b[0m \u001b[38;5;28;01mdef\u001b[39;00m \u001b[38;5;21msave\u001b[39m(\u001b[38;5;28mself\u001b[39m, path_or_stream: \u001b[38;5;28mstr\u001b[39m \u001b[38;5;241m|\u001b[39m IO[\u001b[38;5;28mbytes\u001b[39m]):\n\u001b[0;32m    106\u001b[0m \u001b[38;5;250m    \u001b[39m\u001b[38;5;124;03m\"\"\"Save this document to `path_or_stream`, which can be either a path to a\u001b[39;00m\n\u001b[0;32m    107\u001b[0m \u001b[38;5;124;03m    filesystem location (a string) or a file-like object.\"\"\"\u001b[39;00m\n\u001b[1;32m--> 108\u001b[0m     \u001b[38;5;28;43mself\u001b[39;49m\u001b[38;5;241;43m.\u001b[39;49m\u001b[43mpackage\u001b[49m\u001b[38;5;241;43m.\u001b[39;49m\u001b[43msave\u001b[49m\u001b[43m(\u001b[49m\u001b[43mpath_or_stream\u001b[49m\u001b[43m)\u001b[49m\n",
      "File \u001b[1;32mc:\\ProgramData\\Anaconda3\\envs\\Group9_8CC00\\lib\\site-packages\\docx\\opc\\package.py:167\u001b[0m, in \u001b[0;36mOpcPackage.save\u001b[1;34m(self, pkg_file)\u001b[0m\n\u001b[0;32m    165\u001b[0m \u001b[38;5;28;01mfor\u001b[39;00m part \u001b[38;5;129;01min\u001b[39;00m \u001b[38;5;28mself\u001b[39m\u001b[38;5;241m.\u001b[39mparts:\n\u001b[0;32m    166\u001b[0m     part\u001b[38;5;241m.\u001b[39mbefore_marshal()\n\u001b[1;32m--> 167\u001b[0m \u001b[43mPackageWriter\u001b[49m\u001b[38;5;241;43m.\u001b[39;49m\u001b[43mwrite\u001b[49m\u001b[43m(\u001b[49m\u001b[43mpkg_file\u001b[49m\u001b[43m,\u001b[49m\u001b[43m \u001b[49m\u001b[38;5;28;43mself\u001b[39;49m\u001b[38;5;241;43m.\u001b[39;49m\u001b[43mrels\u001b[49m\u001b[43m,\u001b[49m\u001b[43m \u001b[49m\u001b[38;5;28;43mself\u001b[39;49m\u001b[38;5;241;43m.\u001b[39;49m\u001b[43mparts\u001b[49m\u001b[43m)\u001b[49m\n",
      "File \u001b[1;32mc:\\ProgramData\\Anaconda3\\envs\\Group9_8CC00\\lib\\site-packages\\docx\\opc\\pkgwriter.py:34\u001b[0m, in \u001b[0;36mPackageWriter.write\u001b[1;34m(pkg_file, pkg_rels, parts)\u001b[0m\n\u001b[0;32m     30\u001b[0m \u001b[38;5;129m@staticmethod\u001b[39m\n\u001b[0;32m     31\u001b[0m \u001b[38;5;28;01mdef\u001b[39;00m \u001b[38;5;21mwrite\u001b[39m(pkg_file, pkg_rels, parts):\n\u001b[0;32m     32\u001b[0m \u001b[38;5;250m    \u001b[39m\u001b[38;5;124;03m\"\"\"Write a physical package (.pptx file) to `pkg_file` containing `pkg_rels` and\u001b[39;00m\n\u001b[0;32m     33\u001b[0m \u001b[38;5;124;03m    `parts` and a content types stream based on the content types of the parts.\"\"\"\u001b[39;00m\n\u001b[1;32m---> 34\u001b[0m     phys_writer \u001b[38;5;241m=\u001b[39m \u001b[43mPhysPkgWriter\u001b[49m\u001b[43m(\u001b[49m\u001b[43mpkg_file\u001b[49m\u001b[43m)\u001b[49m\n\u001b[0;32m     35\u001b[0m     PackageWriter\u001b[38;5;241m.\u001b[39m_write_content_types_stream(phys_writer, parts)\n\u001b[0;32m     36\u001b[0m     PackageWriter\u001b[38;5;241m.\u001b[39m_write_pkg_rels(phys_writer, pkg_rels)\n",
      "File \u001b[1;32mc:\\ProgramData\\Anaconda3\\envs\\Group9_8CC00\\lib\\site-packages\\docx\\opc\\phys_pkg.py:109\u001b[0m, in \u001b[0;36m_ZipPkgWriter.__init__\u001b[1;34m(self, pkg_file)\u001b[0m\n\u001b[0;32m    107\u001b[0m \u001b[38;5;28;01mdef\u001b[39;00m \u001b[38;5;21m__init__\u001b[39m(\u001b[38;5;28mself\u001b[39m, pkg_file):\n\u001b[0;32m    108\u001b[0m     \u001b[38;5;28msuper\u001b[39m(_ZipPkgWriter, \u001b[38;5;28mself\u001b[39m)\u001b[38;5;241m.\u001b[39m\u001b[38;5;21m__init__\u001b[39m()\n\u001b[1;32m--> 109\u001b[0m     \u001b[38;5;28mself\u001b[39m\u001b[38;5;241m.\u001b[39m_zipf \u001b[38;5;241m=\u001b[39m \u001b[43mZipFile\u001b[49m\u001b[43m(\u001b[49m\u001b[43mpkg_file\u001b[49m\u001b[43m,\u001b[49m\u001b[43m \u001b[49m\u001b[38;5;124;43m\"\u001b[39;49m\u001b[38;5;124;43mw\u001b[39;49m\u001b[38;5;124;43m\"\u001b[39;49m\u001b[43m,\u001b[49m\u001b[43m \u001b[49m\u001b[43mcompression\u001b[49m\u001b[38;5;241;43m=\u001b[39;49m\u001b[43mZIP_DEFLATED\u001b[49m\u001b[43m)\u001b[49m\n",
      "File \u001b[1;32mc:\\ProgramData\\Anaconda3\\envs\\Group9_8CC00\\lib\\zipfile.py:1251\u001b[0m, in \u001b[0;36mZipFile.__init__\u001b[1;34m(self, file, mode, compression, allowZip64, compresslevel, strict_timestamps)\u001b[0m\n\u001b[0;32m   1249\u001b[0m \u001b[38;5;28;01mwhile\u001b[39;00m \u001b[38;5;28;01mTrue\u001b[39;00m:\n\u001b[0;32m   1250\u001b[0m     \u001b[38;5;28;01mtry\u001b[39;00m:\n\u001b[1;32m-> 1251\u001b[0m         \u001b[38;5;28mself\u001b[39m\u001b[38;5;241m.\u001b[39mfp \u001b[38;5;241m=\u001b[39m \u001b[43mio\u001b[49m\u001b[38;5;241;43m.\u001b[39;49m\u001b[43mopen\u001b[49m\u001b[43m(\u001b[49m\u001b[43mfile\u001b[49m\u001b[43m,\u001b[49m\u001b[43m \u001b[49m\u001b[43mfilemode\u001b[49m\u001b[43m)\u001b[49m\n\u001b[0;32m   1252\u001b[0m     \u001b[38;5;28;01mexcept\u001b[39;00m \u001b[38;5;167;01mOSError\u001b[39;00m:\n\u001b[0;32m   1253\u001b[0m         \u001b[38;5;28;01mif\u001b[39;00m filemode \u001b[38;5;129;01min\u001b[39;00m modeDict:\n",
      "\u001b[1;31mPermissionError\u001b[0m: [Errno 13] Permission denied: 'top_50_descriptors.docx'"
     ]
    }
   ],
   "source": [
    "# Create a DataFrame from the lists\n",
    "data = {\n",
    "    'Rank': list(range(1, 51)),\n",
    "    'PKM2 Descriptor': PKM2,\n",
    "    'ERK2 Descriptor': ERK2\n",
    "}\n",
    "\n",
    "df = pd.DataFrame(data)\n",
    "\n",
    "# Create a Word document\n",
    "doc = Document()\n",
    "\n",
    "# Add a title\n",
    "doc.add_heading('Top 50 Descriptors for PKM2 and ERK2', level=1)\n",
    "\n",
    "# Add a table\n",
    "table = doc.add_table(rows=1, cols=3)\n",
    "table.style = 'Table Grid'\n",
    "\n",
    "# Add the header row\n",
    "hdr_cells = table.rows[0].cells\n",
    "hdr_cells[0].text = 'Rank'\n",
    "hdr_cells[1].text = 'PKM2 Descriptor'\n",
    "hdr_cells[2].text = 'ERK2 Descriptor'\n",
    "\n",
    "# Add the data rows\n",
    "for i in range(len(df)):\n",
    "    row_cells = table.add_row().cells\n",
    "    row_cells[0].text = str(df['Rank'][i])\n",
    "    row_cells[1].text = df['PKM2 Descriptor'][i]\n",
    "    row_cells[2].text = df['ERK2 Descriptor'][i]\n",
    "\n",
    "# Save the document\n",
    "doc.save('top_50_descriptors.docx')"
   ]
  }
 ],
 "metadata": {
  "kernelspec": {
   "display_name": "Group9_8CC00",
   "language": "python",
   "name": "python3"
  },
  "language_info": {
   "codemirror_mode": {
    "name": "ipython",
    "version": 3
   },
   "file_extension": ".py",
   "mimetype": "text/x-python",
   "name": "python",
   "nbconvert_exporter": "python",
   "pygments_lexer": "ipython3",
   "version": "3.8.18"
  }
 },
 "nbformat": 4,
 "nbformat_minor": 2
}
