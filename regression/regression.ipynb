{
 "cells": [
  {
   "cell_type": "code",
   "execution_count": 19,
   "metadata": {},
   "outputs": [],
   "source": [
    "\n",
    "import matplotlib.pyplot as plt\n",
    "from sklearn.linear_model import LogisticRegression\n",
    "from sklearn.model_selection import train_test_split\n",
    "from sklearn.metrics import accuracy_score, classification_report, confusion_matrix, roc_curve, auc, balanced_accuracy_score\n",
    "import pandas as pd\n"
   ]
  },
  {
   "cell_type": "code",
   "execution_count": 20,
   "metadata": {},
   "outputs": [
    {
     "name": "stdout",
     "output_type": "stream",
     "text": [
      "Results of logistic regression for prediction of PKM_2 inhibition\n",
      "Accuracy: 75.52%\n",
      "Balanced accuracy: 87.54%\n",
      "Confusion Matrix:\n",
      " [[247  82]\n",
      " [  0   6]]\n",
      "\n",
      "Classification Report:\n",
      "               precision    recall  f1-score   support\n",
      "\n",
      "         0.0       1.00      0.75      0.86       329\n",
      "         1.0       0.07      1.00      0.13         6\n",
      "\n",
      "    accuracy                           0.76       335\n",
      "   macro avg       0.53      0.88      0.49       335\n",
      "weighted avg       0.98      0.76      0.84       335\n",
      "\n"
     ]
    }
   ],
   "source": [
    "# Split the data into X and y\n",
    "y=pd.read_csv(\"y_PKM2.csv\")\n",
    "X = pd.read_csv(\"X_PKM2_pca.csv\")\n",
    "\n",
    "# Split the data into training and test data set\n",
    "X_train, X_test, y_train, y_test_PKM2 = train_test_split(X,y, train_size=0.7,test_size=0.3,random_state=42)\n",
    "y_train=y_train.values.ravel()\n",
    "y_test_PKM2=y_test_PKM2.values.ravel()\n",
    "\n",
    "highest_BAcc_result_PKM2 = float('-inf')\n",
    "for i in range(100):\n",
    "\n",
    "    logr_model=LogisticRegression(class_weight={0: 1, 1: i}) #weights added to make sure 1 has a higher chance\n",
    "    logr_model.fit(X_train,y_train)\n",
    "\n",
    "    y_pred_PKM2 = logr_model.predict(X_test)\n",
    "    accuracy_PKM2 = accuracy_score(y_test_PKM2, y_pred_PKM2)\n",
    "    balanced_accuracy_PKM2=balanced_accuracy_score(y_test_PKM2, y_pred_PKM2)\n",
    "\n",
    "    if balanced_accuracy_PKM2 > highest_BAcc_result_PKM2:\n",
    "        highest_BAcc_result_PKM2 = balanced_accuracy_PKM2\n",
    "        highest_acc_result_PKM2=accuracy_PKM2\n",
    "        best_y_pred_PKM2=y_pred_PKM2\n",
    "\n",
    "\n",
    "\n",
    "print(\"Results of logistic regression for prediction of PKM_2 inhibition\")        \n",
    "print(\"Accuracy: {:.2f}%\".format(highest_acc_result_PKM2 * 100))\n",
    "print(\"Balanced accuracy: {:.2f}%\".format(highest_BAcc_result_PKM2 * 100))\n",
    "\n",
    "# evaluate the model\n",
    "print(\"Confusion Matrix:\\n\", confusion_matrix(y_test_PKM2, best_y_pred_PKM2))\n",
    "print(\"\\nClassification Report:\\n\", classification_report(y_test_PKM2, best_y_pred_PKM2))\n",
    "\n",
    "\n"
   ]
  },
  {
   "cell_type": "code",
   "execution_count": 21,
   "metadata": {},
   "outputs": [
    {
     "name": "stdout",
     "output_type": "stream",
     "text": [
      "Results of logistic regression for prediction of ERK_2 inhibition\n",
      "Accuracy: 68.66%\n",
      "Balanced accuracy: 71.71%\n",
      "Confusion Matrix:\n",
      " [[221 102]\n",
      " [  3   9]]\n",
      "\n",
      "Classification Report:\n",
      "               precision    recall  f1-score   support\n",
      "\n",
      "         0.0       0.99      0.68      0.81       323\n",
      "         1.0       0.08      0.75      0.15        12\n",
      "\n",
      "    accuracy                           0.69       335\n",
      "   macro avg       0.53      0.72      0.48       335\n",
      "weighted avg       0.95      0.69      0.78       335\n",
      "\n"
     ]
    }
   ],
   "source": [
    "X=pd.read_csv(\"X_ERK2_pca.csv\") \n",
    "y=pd.read_csv(\"y_ERK2.csv\")\n",
    "\n",
    "# Split the data into training and test data set\n",
    "X_train, X_test, y_train, y_test_ERK2 = train_test_split(X,y, train_size=0.7,test_size=0.3,random_state=42)\n",
    "y_train=y_train.values.ravel()\n",
    "y_test_ERK2=y_test_ERK2.values.ravel()\n",
    "\n",
    "highest_BAcc_result_ERK2 = float('-inf')\n",
    "for i in range(100):\n",
    "\n",
    "    logr_model=LogisticRegression(class_weight={0: 1, 1: i}) #weights added to make sure 1 has a higher chance\n",
    "    logr_model.fit(X_train,y_train)\n",
    "\n",
    "    y_pred_ERK2= logr_model.predict(X_test)\n",
    "    y_prob_ERK2 = logr_model.predict_proba(X_test)[:, 1]\n",
    "    accuracy_ERK2 = accuracy_score(y_test_ERK2, y_pred_ERK2)\n",
    "    balanced_accuracy_ERK2=balanced_accuracy_score(y_test_ERK2, y_pred_ERK2)\n",
    "\n",
    "    if balanced_accuracy_ERK2 > highest_BAcc_result_ERK2:\n",
    "        highest_BAcc_result_ERK2 = balanced_accuracy_ERK2\n",
    "        highest_acc_result_ERK2=accuracy_ERK2\n",
    "        best_y_pred_ERK2=y_pred_ERK2\n",
    "        best_y_prob_ERK2= y_prob_ERK2\n",
    "\n",
    "print(\"Results of logistic regression for prediction of ERK_2 inhibition\") \n",
    "print(\"Accuracy: {:.2f}%\".format(highest_acc_result_ERK2  * 100))\n",
    "print(\"Balanced accuracy: {:.2f}%\".format(highest_BAcc_result_ERK2  * 100))\n",
    "\n",
    "# evaluate the model\n",
    "print(\"Confusion Matrix:\\n\", confusion_matrix(y_test_ERK2, best_y_pred_ERK2))\n",
    "print(\"\\nClassification Report:\\n\", classification_report(y_test_ERK2, best_y_pred_ERK2))\n",
    "\n"
   ]
  },
  {
   "cell_type": "code",
   "execution_count": 22,
   "metadata": {},
   "outputs": [
    {
     "name": "stdout",
     "output_type": "stream",
     "text": [
      "Accuracy: 72.09%\n",
      "Balanced accuracy: 79.62%\n"
     ]
    }
   ],
   "source": [
    "#total for both \n",
    "accuracy= (highest_acc_result_ERK2+ highest_acc_result_PKM2)/2\n",
    "balanced_accuracy=(highest_BAcc_result_ERK2 + highest_BAcc_result_PKM2)/2\n",
    "print(\"Accuracy: {:.2f}%\".format(accuracy  * 100))\n",
    "print(\"Balanced accuracy: {:.2f}%\".format(balanced_accuracy * 100))"
   ]
  }
 ],
 "metadata": {
  "kernelspec": {
   "display_name": "Python 3",
   "language": "python",
   "name": "python3"
  },
  "language_info": {
   "codemirror_mode": {
    "name": "ipython",
    "version": 3
   },
   "file_extension": ".py",
   "mimetype": "text/x-python",
   "name": "python",
   "nbconvert_exporter": "python",
   "pygments_lexer": "ipython3",
   "version": "3.8.8"
  }
 },
 "nbformat": 4,
 "nbformat_minor": 2
}
